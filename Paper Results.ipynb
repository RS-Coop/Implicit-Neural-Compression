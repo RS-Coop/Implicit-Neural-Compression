{
 "cells": [
  {
   "cell_type": "code",
   "execution_count": 1,
   "id": "1ca0fa1d-ee92-4216-8624-2a50145e844e",
   "metadata": {},
   "outputs": [],
   "source": [
    "import numpy as np\n",
    "import tbparse as tb\n",
    "import pandas as pd\n",
    "import matplotlib.pyplot as plt\n",
    "import seaborn as sns\n",
    "\n",
    "sns.set_theme()"
   ]
  },
  {
   "cell_type": "markdown",
   "id": "ec479bea-7292-4353-8ed5-9a956df4fd76",
   "metadata": {},
   "source": [
    "# Table Results"
   ]
  },
  {
   "cell_type": "code",
   "execution_count": 2,
   "id": "5941854f-13e8-481a-b63e-55a602fe36cb",
   "metadata": {},
   "outputs": [],
   "source": [
    "#Extract tb logs\n",
    "dfs = []\n",
    "for dataset in [\"ignition/\", \"neuron_transport/\"]:#, \"channel_flow\"]:\n",
    "    log_dir = \"lightning_logs/\"+dataset\n",
    "    experiments = [\"hnet_offline_full\", \"hnet_offline_subsample\", \"hnet_offline_fjlt\", \"hnet_online_subsample\", \"hnet_online_fjlt\"]\n",
    "    \n",
    "    df = pd.DataFrame(columns=[\"metric\"]+experiments)\n",
    "    df[\"metric\"] = [\"Mean PSNR\", \"Std PSNR\", \"Mean RFE\", \"Std RFE\"]\n",
    "    \n",
    "    for i, experiment in enumerate(experiments):\n",
    "        reader = tb.SummaryReader(log_dir+experiment)\n",
    "        df_ = reader.scalars\n",
    "        df_ = df_[df_[\"tag\"].isin([\"real_test_avg_PSNR\", \"real_test_avg_RFError\"])]\n",
    "        \n",
    "        df.loc[0,experiment] = np.mean(df_[df_[\"tag\"] == \"real_test_avg_PSNR\"][\"value\"])\n",
    "        df.loc[1,experiment] = np.std(df_[df_[\"tag\"] == \"real_test_avg_PSNR\"][\"value\"])\n",
    "        df.loc[2,experiment] = np.mean(df_[df_[\"tag\"] == \"real_test_avg_RFError\"][\"value\"])*100\n",
    "        df.loc[3,experiment] = np.std(df_[df_[\"tag\"] == \"real_test_avg_RFError\"][\"value\"])*100\n",
    "\n",
    "    dfs.append(df)"
   ]
  },
  {
   "cell_type": "code",
   "execution_count": 3,
   "id": "40b15357-aa8e-4c60-951b-0df5ab1487d1",
   "metadata": {},
   "outputs": [
    {
     "name": "stdout",
     "output_type": "stream",
     "text": [
      "Ignition...\n"
     ]
    },
    {
     "data": {
      "text/html": [
       "<div>\n",
       "<style scoped>\n",
       "    .dataframe tbody tr th:only-of-type {\n",
       "        vertical-align: middle;\n",
       "    }\n",
       "\n",
       "    .dataframe tbody tr th {\n",
       "        vertical-align: top;\n",
       "    }\n",
       "\n",
       "    .dataframe thead th {\n",
       "        text-align: right;\n",
       "    }\n",
       "</style>\n",
       "<table border=\"1\" class=\"dataframe\">\n",
       "  <thead>\n",
       "    <tr style=\"text-align: right;\">\n",
       "      <th></th>\n",
       "      <th>metric</th>\n",
       "      <th>hnet_offline_full</th>\n",
       "      <th>hnet_offline_subsample</th>\n",
       "      <th>hnet_offline_fjlt</th>\n",
       "      <th>hnet_online_subsample</th>\n",
       "      <th>hnet_online_fjlt</th>\n",
       "    </tr>\n",
       "  </thead>\n",
       "  <tbody>\n",
       "    <tr>\n",
       "      <th>0</th>\n",
       "      <td>Mean PSNR</td>\n",
       "      <td>41.601081</td>\n",
       "      <td>37.636314</td>\n",
       "      <td>37.055446</td>\n",
       "      <td>39.78086</td>\n",
       "      <td>40.380889</td>\n",
       "    </tr>\n",
       "    <tr>\n",
       "      <th>1</th>\n",
       "      <td>Std PSNR</td>\n",
       "      <td>0.624085</td>\n",
       "      <td>0.589397</td>\n",
       "      <td>0.919489</td>\n",
       "      <td>2.05585</td>\n",
       "      <td>3.770233</td>\n",
       "    </tr>\n",
       "    <tr>\n",
       "      <th>2</th>\n",
       "      <td>Mean RFE</td>\n",
       "      <td>2.173384</td>\n",
       "      <td>3.961669</td>\n",
       "      <td>3.866305</td>\n",
       "      <td>4.832455</td>\n",
       "      <td>8.979962</td>\n",
       "    </tr>\n",
       "    <tr>\n",
       "      <th>3</th>\n",
       "      <td>Std RFE</td>\n",
       "      <td>0.193465</td>\n",
       "      <td>0.315792</td>\n",
       "      <td>0.491862</td>\n",
       "      <td>2.658787</td>\n",
       "      <td>13.499667</td>\n",
       "    </tr>\n",
       "  </tbody>\n",
       "</table>\n",
       "</div>"
      ],
      "text/plain": [
       "      metric hnet_offline_full hnet_offline_subsample hnet_offline_fjlt  \\\n",
       "0  Mean PSNR         41.601081              37.636314         37.055446   \n",
       "1   Std PSNR          0.624085               0.589397          0.919489   \n",
       "2   Mean RFE          2.173384               3.961669          3.866305   \n",
       "3    Std RFE          0.193465               0.315792          0.491862   \n",
       "\n",
       "  hnet_online_subsample hnet_online_fjlt  \n",
       "0              39.78086        40.380889  \n",
       "1               2.05585         3.770233  \n",
       "2              4.832455         8.979962  \n",
       "3              2.658787        13.499667  "
      ]
     },
     "execution_count": 3,
     "metadata": {},
     "output_type": "execute_result"
    }
   ],
   "source": [
    "print(\"Ignition...\")\n",
    "dfs[0]"
   ]
  },
  {
   "cell_type": "code",
   "execution_count": 41,
   "id": "b2d700c3-364f-4e9a-bd1e-30d6914991fd",
   "metadata": {},
   "outputs": [
    {
     "name": "stdout",
     "output_type": "stream",
     "text": [
      "Neuron Transport...\n"
     ]
    },
    {
     "data": {
      "text/html": [
       "<div>\n",
       "<style scoped>\n",
       "    .dataframe tbody tr th:only-of-type {\n",
       "        vertical-align: middle;\n",
       "    }\n",
       "\n",
       "    .dataframe tbody tr th {\n",
       "        vertical-align: top;\n",
       "    }\n",
       "\n",
       "    .dataframe thead th {\n",
       "        text-align: right;\n",
       "    }\n",
       "</style>\n",
       "<table border=\"1\" class=\"dataframe\">\n",
       "  <thead>\n",
       "    <tr style=\"text-align: right;\">\n",
       "      <th></th>\n",
       "      <th>metric</th>\n",
       "      <th>hnet_offline_full</th>\n",
       "      <th>hnet_offline_subsample</th>\n",
       "      <th>hnet_offline_fjlt</th>\n",
       "      <th>hnet_online_subsample</th>\n",
       "      <th>hnet_online_fjlt</th>\n",
       "    </tr>\n",
       "  </thead>\n",
       "  <tbody>\n",
       "    <tr>\n",
       "      <th>0</th>\n",
       "      <td>Mean PSNR</td>\n",
       "      <td>60.596428</td>\n",
       "      <td>37.247746</td>\n",
       "      <td>52.0872</td>\n",
       "      <td>45.612446</td>\n",
       "      <td>58.017242</td>\n",
       "    </tr>\n",
       "    <tr>\n",
       "      <th>1</th>\n",
       "      <td>Std PSNR</td>\n",
       "      <td>0.0</td>\n",
       "      <td>0.0</td>\n",
       "      <td>0.0</td>\n",
       "      <td>0.0</td>\n",
       "      <td>0.0</td>\n",
       "    </tr>\n",
       "    <tr>\n",
       "      <th>2</th>\n",
       "      <td>Mean RFE</td>\n",
       "      <td>0.562926</td>\n",
       "      <td>7.585403</td>\n",
       "      <td>1.445448</td>\n",
       "      <td>3.88189</td>\n",
       "      <td>0.835451</td>\n",
       "    </tr>\n",
       "    <tr>\n",
       "      <th>3</th>\n",
       "      <td>Std RFE</td>\n",
       "      <td>0.0</td>\n",
       "      <td>0.0</td>\n",
       "      <td>0.0</td>\n",
       "      <td>0.0</td>\n",
       "      <td>0.0</td>\n",
       "    </tr>\n",
       "  </tbody>\n",
       "</table>\n",
       "</div>"
      ],
      "text/plain": [
       "      metric hnet_offline_full hnet_offline_subsample hnet_offline_fjlt  \\\n",
       "0  Mean PSNR         60.596428              37.247746           52.0872   \n",
       "1   Std PSNR               0.0                    0.0               0.0   \n",
       "2   Mean RFE          0.562926               7.585403          1.445448   \n",
       "3    Std RFE               0.0                    0.0               0.0   \n",
       "\n",
       "  hnet_online_subsample hnet_online_fjlt  \n",
       "0             45.612446        58.017242  \n",
       "1                   0.0              0.0  \n",
       "2               3.88189         0.835451  \n",
       "3                   0.0              0.0  "
      ]
     },
     "execution_count": 41,
     "metadata": {},
     "output_type": "execute_result"
    }
   ],
   "source": [
    "print(\"Neuron Transport...\")\n",
    "dfs[1]"
   ]
  },
  {
   "cell_type": "code",
   "execution_count": null,
   "id": "f78aba5c-6d21-47d5-af8d-3d86536c50e6",
   "metadata": {},
   "outputs": [],
   "source": [
    "print(\"Channel Flow...\")\n",
    "dfs[0]"
   ]
  },
  {
   "cell_type": "markdown",
   "id": "eb1e697f-bcb6-4e53-a6cf-08ce2b83c625",
   "metadata": {},
   "source": [
    "# Neuron Transport: Performance v Sketch Size\n",
    "Fixed compression rate with varying sketch sizes."
   ]
  },
  {
   "cell_type": "code",
   "execution_count": 2,
   "id": "026deed9-f1b5-4293-a0ef-a19202089ef1",
   "metadata": {},
   "outputs": [],
   "source": [
    "#Extract tb logs\n",
    "log_dir = \"lightning_logs/neuron_transport/\"\n",
    "experiments = [f\"hnet_online_fjlt_%_{i}\" for i in range(0,4)]\n",
    "experiments.append(\"hnet_online_fjlt\")\n",
    "\n",
    "df = pd.DataFrame(columns=[\"Sample Factor\", \"RFE\", \"PSNR\"])\n",
    "sample_factors = np.linspace(0.001, 0.01, 5)\n",
    "\n",
    "for i, experiment in enumerate(experiments):\n",
    "    reader = tb.SummaryReader(log_dir+experiment)\n",
    "    df_ = reader.scalars\n",
    "    df_ = df_[df_[\"tag\"].isin([\"real_test_avg_PSNR\", \"real_test_avg_RFError\"])]\n",
    "\n",
    "    df.loc[i] = [sample_factors[i]*100, df_.loc[1,\"value\"]*100, df_.loc[0,\"value\"]]"
   ]
  },
  {
   "cell_type": "code",
   "execution_count": 3,
   "id": "b801aad2-cb2b-4ecb-a1b0-852054bea15a",
   "metadata": {},
   "outputs": [
    {
     "data": {
      "text/html": [
       "<div>\n",
       "<style scoped>\n",
       "    .dataframe tbody tr th:only-of-type {\n",
       "        vertical-align: middle;\n",
       "    }\n",
       "\n",
       "    .dataframe tbody tr th {\n",
       "        vertical-align: top;\n",
       "    }\n",
       "\n",
       "    .dataframe thead th {\n",
       "        text-align: right;\n",
       "    }\n",
       "</style>\n",
       "<table border=\"1\" class=\"dataframe\">\n",
       "  <thead>\n",
       "    <tr style=\"text-align: right;\">\n",
       "      <th></th>\n",
       "      <th>Sample Factor</th>\n",
       "      <th>RFE</th>\n",
       "      <th>PSNR</th>\n",
       "    </tr>\n",
       "  </thead>\n",
       "  <tbody>\n",
       "    <tr>\n",
       "      <th>0</th>\n",
       "      <td>0.100</td>\n",
       "      <td>2.749467</td>\n",
       "      <td>51.839809</td>\n",
       "    </tr>\n",
       "    <tr>\n",
       "      <th>1</th>\n",
       "      <td>0.325</td>\n",
       "      <td>1.836249</td>\n",
       "      <td>54.551746</td>\n",
       "    </tr>\n",
       "    <tr>\n",
       "      <th>2</th>\n",
       "      <td>0.550</td>\n",
       "      <td>0.720277</td>\n",
       "      <td>58.845047</td>\n",
       "    </tr>\n",
       "    <tr>\n",
       "      <th>3</th>\n",
       "      <td>0.775</td>\n",
       "      <td>0.674789</td>\n",
       "      <td>58.665394</td>\n",
       "    </tr>\n",
       "    <tr>\n",
       "      <th>4</th>\n",
       "      <td>1.000</td>\n",
       "      <td>0.835451</td>\n",
       "      <td>58.017242</td>\n",
       "    </tr>\n",
       "  </tbody>\n",
       "</table>\n",
       "</div>"
      ],
      "text/plain": [
       "   Sample Factor       RFE       PSNR\n",
       "0          0.100  2.749467  51.839809\n",
       "1          0.325  1.836249  54.551746\n",
       "2          0.550  0.720277  58.845047\n",
       "3          0.775  0.674789  58.665394\n",
       "4          1.000  0.835451  58.017242"
      ]
     },
     "execution_count": 3,
     "metadata": {},
     "output_type": "execute_result"
    }
   ],
   "source": [
    "df"
   ]
  },
  {
   "cell_type": "code",
   "execution_count": 9,
   "id": "6fa462b8-bbb0-43af-8919-021c15f1803d",
   "metadata": {},
   "outputs": [],
   "source": [
    "#Get offline baseline\n",
    "df_ = tb.SummaryReader(log_dir+\"hnet_offline_full\").scalars\n",
    "df_ = df_[df_[\"tag\"].isin([\"real_test_avg_PSNR\", \"real_test_avg_RFError\"])]\n",
    "\n",
    "df_offline = pd.DataFrame(columns=[\"RFE\", \"PSNR\"])\n",
    "df_offline.loc[0] = [df_.loc[1,\"value\"]*100, df_.loc[0,\"value\"]]"
   ]
  },
  {
   "cell_type": "code",
   "execution_count": 10,
   "id": "7734fbe6-7c81-4ca3-ac64-7b84a0b443e9",
   "metadata": {},
   "outputs": [
    {
     "data": {
      "text/plain": [
       "0.5629261489957571"
      ]
     },
     "execution_count": 10,
     "metadata": {},
     "output_type": "execute_result"
    }
   ],
   "source": [
    "df_offline[\"RFE\"][0]"
   ]
  },
  {
   "cell_type": "code",
   "execution_count": 11,
   "id": "378bb692-a837-4692-99aa-c1baf68b5b01",
   "metadata": {},
   "outputs": [
    {
     "data": {
      "image/png": "[encoded data removed]",
      "text/plain": [
       "<Figure size 1200x600 with 2 Axes>"
      ]
     },
     "metadata": {},
     "output_type": "display_data"
    }
   ],
   "source": [
    "#Plot\n",
    "fig, ax = plt.subplots(1,2,figsize=(12,6))\n",
    "\n",
    "sns.lineplot(data=df, x=\"Sample Factor\", y=\"RFE\", ax=ax[0])\n",
    "ax[0].axhline(df_offline[\"RFE\"][0], c=\"r\", ls=\"--\")\n",
    "ax[0].set_xlabel(\"Sample Factor (%)\")\n",
    "ax[0].set_ylabel(\"RFE (%)\")\n",
    "\n",
    "sns.lineplot(data=df, x=\"Sample Factor\", y=\"PSNR\", ax=ax[1])\n",
    "ax[1].axhline(df_offline[\"PSNR\"][0], c=\"r\", ls=\"--\")\n",
    "ax[1].set_xlabel(\"Sample Factor (%)\")\n",
    "ax[1].set_ylabel(\"PSNR (db)\")\n",
    "\n",
    "fig.suptitle(\"Sample Factor Performance\")\n",
    "\n",
    "fig.tight_layout()"
   ]
  },
  {
   "cell_type": "code",
   "execution_count": 12,
   "id": "7e4c8131-0116-4497-91c8-5685ad587831",
   "metadata": {},
   "outputs": [],
   "source": [
    "fig.savefig(\"misc/figures/sample-factor-performance.png\")"
   ]
  },
  {
   "cell_type": "markdown",
   "id": "259d5b6a-58e8-463a-bb3d-ba42888570a9",
   "metadata": {},
   "source": [
    "# Neuron Transport: Performance v Full Buffer Size\n",
    "Fixed sketch size with varying full buffer sizes."
   ]
  },
  {
   "cell_type": "code",
   "execution_count": 37,
   "id": "4cc318e5-48a3-4285-93db-a9b9f76eb3f1",
   "metadata": {},
   "outputs": [],
   "source": [
    "#Extract tb logs\n",
    "log_dir = \"lightning_logs/neuron_transport/\"\n",
    "experiments = [\"hnet_online_fjlt\"]\n",
    "experiments.extend([f\"hnet_online_fjlt_s_{i}\" for i in range(0,-1,-1)])\n",
    "\n",
    "df = pd.DataFrame(columns=[\"Full Buffer Size\", \"RFE\", \"PSNR\"])\n",
    "sizes = np.linspace(1, 25, 5)\n",
    "\n",
    "for i, experiment in enumerate(experiments):\n",
    "    reader = tb.SummaryReader(log_dir+experiment)\n",
    "    df_ = reader.scalars\n",
    "    df_ = df_[df_[\"tag\"].isin([\"real_test_avg_PSNR\", \"real_test_avg_RFError\"])]\n",
    "\n",
    "    df.loc[i] = [sizes[i], df_.loc[1,\"value\"], df_.loc[0,\"value\"]]"
   ]
  },
  {
   "cell_type": "code",
   "execution_count": 38,
   "id": "347e6d5a-0342-4c5d-9bf9-e641ed100703",
   "metadata": {},
   "outputs": [
    {
     "data": {
      "text/html": [
       "<div>\n",
       "<style scoped>\n",
       "    .dataframe tbody tr th:only-of-type {\n",
       "        vertical-align: middle;\n",
       "    }\n",
       "\n",
       "    .dataframe tbody tr th {\n",
       "        vertical-align: top;\n",
       "    }\n",
       "\n",
       "    .dataframe thead th {\n",
       "        text-align: right;\n",
       "    }\n",
       "</style>\n",
       "<table border=\"1\" class=\"dataframe\">\n",
       "  <thead>\n",
       "    <tr style=\"text-align: right;\">\n",
       "      <th></th>\n",
       "      <th>Full Buffer Size</th>\n",
       "      <th>RFE</th>\n",
       "      <th>PSNR</th>\n",
       "    </tr>\n",
       "  </thead>\n",
       "  <tbody>\n",
       "    <tr>\n",
       "      <th>0</th>\n",
       "      <td>1.0</td>\n",
       "      <td>0.008355</td>\n",
       "      <td>58.017242</td>\n",
       "    </tr>\n",
       "    <tr>\n",
       "      <th>1</th>\n",
       "      <td>7.0</td>\n",
       "      <td>0.012121</td>\n",
       "      <td>59.040443</td>\n",
       "    </tr>\n",
       "  </tbody>\n",
       "</table>\n",
       "</div>"
      ],
      "text/plain": [
       "   Full Buffer Size       RFE       PSNR\n",
       "0               1.0  0.008355  58.017242\n",
       "1               7.0  0.012121  59.040443"
      ]
     },
     "execution_count": 38,
     "metadata": {},
     "output_type": "execute_result"
    }
   ],
   "source": [
    "df"
   ]
  },
  {
   "cell_type": "code",
   "execution_count": 39,
   "id": "3c6368fe-3b3d-435b-8d04-8755a8626319",
   "metadata": {
    "scrolled": true
   },
   "outputs": [],
   "source": [
    "#Get offline baseline\n",
    "df_ = tb.SummaryReader(log_dir+\"hnet_offline_full\").scalars\n",
    "df_ = df_[df_[\"tag\"].isin([\"real_test_avg_PSNR\", \"real_test_avg_RFError\"])]\n",
    "\n",
    "df_offline = pd.DataFrame(columns=[\"RFE\", \"PSNR\"])\n",
    "df_offline.loc[0] = [df_.loc[1,\"value\"], df_.loc[0,\"value\"]]"
   ]
  },
  {
   "cell_type": "code",
   "execution_count": 40,
   "id": "b6dd1dc0-0cd9-4be6-8d70-42ea56654c50",
   "metadata": {},
   "outputs": [
    {
     "data": {
      "text/html": [
       "<div>\n",
       "<style scoped>\n",
       "    .dataframe tbody tr th:only-of-type {\n",
       "        vertical-align: middle;\n",
       "    }\n",
       "\n",
       "    .dataframe tbody tr th {\n",
       "        vertical-align: top;\n",
       "    }\n",
       "\n",
       "    .dataframe thead th {\n",
       "        text-align: right;\n",
       "    }\n",
       "</style>\n",
       "<table border=\"1\" class=\"dataframe\">\n",
       "  <thead>\n",
       "    <tr style=\"text-align: right;\">\n",
       "      <th></th>\n",
       "      <th>Full Buffer Size</th>\n",
       "      <th>RFE</th>\n",
       "      <th>PSNR</th>\n",
       "    </tr>\n",
       "  </thead>\n",
       "  <tbody>\n",
       "    <tr>\n",
       "      <th>0</th>\n",
       "      <td>1.0</td>\n",
       "      <td>0.008355</td>\n",
       "      <td>58.017242</td>\n",
       "    </tr>\n",
       "    <tr>\n",
       "      <th>1</th>\n",
       "      <td>7.0</td>\n",
       "      <td>0.012121</td>\n",
       "      <td>59.040443</td>\n",
       "    </tr>\n",
       "  </tbody>\n",
       "</table>\n",
       "</div>"
      ],
      "text/plain": [
       "   Full Buffer Size       RFE       PSNR\n",
       "0               1.0  0.008355  58.017242\n",
       "1               7.0  0.012121  59.040443"
      ]
     },
     "execution_count": 40,
     "metadata": {},
     "output_type": "execute_result"
    }
   ],
   "source": [
    "df"
   ]
  },
  {
   "cell_type": "code",
   "execution_count": 49,
   "id": "0a41c475-8f23-4dc0-96c2-8caf874e15d4",
   "metadata": {},
   "outputs": [
    {
     "data": {
      "image/png": "[encoded data removed]",
      "text/plain": [
       "<Figure size 1200x600 with 2 Axes>"
      ]
     },
     "metadata": {},
     "output_type": "display_data"
    }
   ],
   "source": [
    "#Plot\n",
    "fig, ax = plt.subplots(1,2,figsize=(12,6))\n",
    "\n",
    "sns.lineplot(data=df, x=\"Full Buffer Size\", y=\"RFE\", ax=ax[0])\n",
    "ax[0].axhline(df_offline[\"RFE\"][0], c=\"r\", ls=\"--\")\n",
    "\n",
    "sns.lineplot(data=df, x=\"Full Buffer Size\", y=\"PSNR\", ax=ax[1])\n",
    "ax[1].axhline(df_offline[\"PSNR\"][0], c=\"r\", ls=\"--\")\n",
    "\n",
    "fig.tight_layout()"
   ]
  },
  {
   "cell_type": "code",
   "execution_count": null,
   "id": "b852650e-7580-450b-b9ce-dbcd8c211633",
   "metadata": {},
   "outputs": [],
   "source": []
  }
 ],
 "metadata": {
  "kernelspec": {
   "display_name": "Python 3 (ipykernel)",
   "language": "python",
   "name": "python3"
  },
  "language_info": {
   "codemirror_mode": {
    "name": "ipython",
    "version": 3
   },
   "file_extension": ".py",
   "mimetype": "text/x-python",
   "name": "python",
   "nbconvert_exporter": "python",
   "pygments_lexer": "ipython3",
   "version": "3.11.7"
  }
 },
 "nbformat": 4,
 "nbformat_minor": 5
}
