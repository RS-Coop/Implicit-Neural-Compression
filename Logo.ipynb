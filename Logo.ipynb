{
 "cells": [
  {
   "cell_type": "code",
   "execution_count": 1,
   "id": "a2b7d9d3-726f-439a-b464-34c8125d3e0e",
   "metadata": {},
   "outputs": [],
   "source": [
    "import numpy as np\n",
    "from PIL import Image\n",
    "import matplotlib.pyplot as plt"
   ]
  },
  {
   "cell_type": "code",
   "execution_count": null,
   "id": "65163a38-0a01-4397-a50f-9a1cab10950d",
   "metadata": {},
   "outputs": [],
   "source": [
    "im = Image.open(\"logo.jpeg\")\n",
    "print(im.format, im.size, im.mode)\n",
    "n1,n2 = im.size\n",
    "# im.show() # or just im  by itself\n",
    "image = np.array(im.convert('L').getdata()).reshape(im.size[0], im.size[1], 1) # convert('L') to get grayscale\n",
    "image = image[:-60,:].squeeze()\n",
    "\n",
    "from scipy.ndimage import gaussian_filter\n",
    "image = gaussian_filter(image,sigma=5)\n",
    "\n",
    "n1,n2 = image.shape\n",
    "\n",
    "GEOMETRIC_IMAGE = False\n",
    "# plt.imshow(image)"
   ]
  },
  {
   "cell_type": "code",
   "execution_count": null,
   "id": "38e577f9-c031-41ee-8fac-935ab4dd532f",
   "metadata": {},
   "outputs": [],
   "source": [
    "plt.imshow(image)"
   ]
  },
  {
   "cell_type": "code",
   "execution_count": 7,
   "id": "f460f6ac-5310-412b-8dd4-9c0c7136667e",
   "metadata": {},
   "outputs": [
    {
     "data": {
      "text/plain": [
       "array([[0, 0, 0, ..., 0, 0, 0],\n",
       "       [0, 0, 0, ..., 0, 0, 0],\n",
       "       [0, 0, 0, ..., 0, 0, 0],\n",
       "       ...,\n",
       "       [0, 0, 0, ..., 0, 0, 0],\n",
       "       [0, 0, 0, ..., 0, 0, 0],\n",
       "       [0, 0, 0, ..., 0, 0, 0]])"
      ]
     },
     "execution_count": 7,
     "metadata": {},
     "output_type": "execute_result"
    }
   ],
   "source": [
    "image"
   ]
  },
  {
   "cell_type": "code",
   "execution_count": 11,
   "id": "3a99ee29-b8bf-4120-9689-fb89b38464c9",
   "metadata": {},
   "outputs": [],
   "source": [
    "image = image/np.max(image)"
   ]
  },
  {
   "cell_type": "code",
   "execution_count": 14,
   "id": "783490e4-89a6-4562-b2c2-91ae12dba830",
   "metadata": {},
   "outputs": [
    {
     "data": {
      "text/plain": [
       "(165, 225)"
      ]
     },
     "execution_count": 14,
     "metadata": {},
     "output_type": "execute_result"
    }
   ],
   "source": [
    "image.shape"
   ]
  },
  {
   "cell_type": "code",
   "execution_count": 15,
   "id": "8bb9bc53-2dd0-4611-b3e8-b84e6f96c279",
   "metadata": {},
   "outputs": [],
   "source": [
    "image = image.reshape(1,-1,1)"
   ]
  },
  {
   "cell_type": "code",
   "execution_count": 16,
   "id": "8283eecb-2d59-4f94-bcbe-1165ab93bb76",
   "metadata": {},
   "outputs": [
    {
     "data": {
      "text/plain": [
       "(1, 37125, 1)"
      ]
     },
     "execution_count": 16,
     "metadata": {},
     "output_type": "execute_result"
    }
   ],
   "source": [
    "image.shape"
   ]
  },
  {
   "cell_type": "code",
   "execution_count": null,
   "id": "936286c0-4a04-45e0-a830-977d7c78db96",
   "metadata": {},
   "outputs": [],
   "source": [
    "image = np.concatenate((image,image),axis=0)"
   ]
  },
  {
   "cell_type": "code",
   "execution_count": 17,
   "id": "26d11767-055e-4934-a6cb-edefe5b2571d",
   "metadata": {},
   "outputs": [],
   "source": [
    "np.save(\"data/simple/features.npy\", image)"
   ]
  },
  {
   "cell_type": "code",
   "execution_count": 18,
   "id": "725fb0f0-2239-4116-b97f-07b5bca9d591",
   "metadata": {},
   "outputs": [],
   "source": [
    "x = np.linspace(0,1,225)\n",
    "y = np.linspace(0,1,165)"
   ]
  },
  {
   "cell_type": "code",
   "execution_count": 19,
   "id": "478daf15-816d-45a9-9a71-a053df8dfb33",
   "metadata": {},
   "outputs": [],
   "source": [
    "m = np.meshgrid(x, y)"
   ]
  },
  {
   "cell_type": "code",
   "execution_count": 22,
   "id": "df3618fa-fefb-4678-a080-650a4e0816ee",
   "metadata": {},
   "outputs": [
    {
     "data": {
      "text/plain": [
       "(165, 225)"
      ]
     },
     "execution_count": 22,
     "metadata": {},
     "output_type": "execute_result"
    }
   ],
   "source": [
    "m[0].shape"
   ]
  },
  {
   "cell_type": "code",
   "execution_count": 25,
   "id": "3e95c818-0f20-4972-aef7-6dcf5cfb25d7",
   "metadata": {},
   "outputs": [],
   "source": [
    "points = np.stack((m[0].reshape(-1), m[1].reshape(-1)), axis=1)"
   ]
  },
  {
   "cell_type": "code",
   "execution_count": 26,
   "id": "f7f64dfa-8063-4604-b65e-caff99855615",
   "metadata": {},
   "outputs": [
    {
     "data": {
      "text/plain": [
       "(37125, 2)"
      ]
     },
     "execution_count": 26,
     "metadata": {},
     "output_type": "execute_result"
    }
   ],
   "source": [
    "points.shape"
   ]
  },
  {
   "cell_type": "code",
   "execution_count": 28,
   "id": "86f22511-bf91-4839-b8e0-f8294bbddd20",
   "metadata": {},
   "outputs": [],
   "source": [
    "np.save(\"data/simple/points.npy\", points)"
   ]
  },
  {
   "cell_type": "code",
   "execution_count": null,
   "id": "b27e16a8-2bf7-45f7-b128-575a1f789854",
   "metadata": {},
   "outputs": [],
   "source": []
  }
 ],
 "metadata": {
  "kernelspec": {
   "display_name": "Python 3 (ipykernel)",
   "language": "python",
   "name": "python3"
  },
  "language_info": {
   "codemirror_mode": {
    "name": "ipython",
    "version": 3
   },
   "file_extension": ".py",
   "mimetype": "text/x-python",
   "name": "python",
   "nbconvert_exporter": "python",
   "pygments_lexer": "ipython3",
   "version": "3.11.7"
  }
 },
 "nbformat": 4,
 "nbformat_minor": 5
}
