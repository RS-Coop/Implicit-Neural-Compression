{
 "cells": [
  {
   "cell_type": "code",
   "execution_count": 2,
   "id": "f668f719-39e9-485b-a8ef-0926183bb9fc",
   "metadata": {},
   "outputs": [],
   "source": [
    "import numpy as np\n",
    "import torch\n",
    "from core.model import Model\n",
    "import skdim\n",
    "import yaml\n",
    "import copy"
   ]
  },
  {
   "cell_type": "code",
   "execution_count": 14,
   "id": "0f18b3de-7d4d-4f1f-b11c-b99e89d5d6b5",
   "metadata": {},
   "outputs": [],
   "source": [
    "def estimate_dim(path, coords, d, c, N=1000, scale=1e-5):\n",
    "\n",
    "    log_dir = \"lightning_logs/\" + path\n",
    "    config_path = log_dir + \"config.yaml\"\n",
    "    ckpt_path = log_dir + \"/checkpoints/last.ckpt\"\n",
    "    \n",
    "    with open(config_path, \"r\") as file:\n",
    "        config = yaml.safe_load(file)\n",
    "\n",
    "    #Load model\n",
    "    model = Model.load_from_checkpoint(ckpt_path, input_shape=((1,1),(1,1,1,d)), output_shape=(1,1,c), **config[\"model\"])\n",
    "    state = copy.deepcopy(model.state_dict())\n",
    "\n",
    "    N = 1000\n",
    "    samples = np.zeros((N, coords[1].shape[2], c))\n",
    "\n",
    "    scale = 1e-5\n",
    "\n",
    "    for i in range(N):\n",
    "        #Perturb\n",
    "        for param in model.parameters():\n",
    "            if param.requires_grad:\n",
    "                with torch.no_grad():\n",
    "                    param.data.add_(scale*torch.randn(param.shape))\n",
    "    \n",
    "        #Evaluate\n",
    "        with torch.no_grad():\n",
    "            output = model(coords)\n",
    "    \n",
    "        #Append sample\n",
    "        samples[i,:] = output.detach().numpy() #channel 1\n",
    "    \n",
    "        #Reset state\n",
    "        model.load_state_dict(state)\n",
    "\n",
    "    dim = 0.\n",
    "    \n",
    "    for i in range(c):\n",
    "        lpca = skdim.id.lPCA().fit_pw(samples[:,:,i], n_neighbors=100, n_jobs=1)\n",
    "\n",
    "        print(np.mean(lpca.dimension_pw_), lpca.dimension_)\n",
    "\n",
    "        dim += lpca.dimension_\n",
    "\n",
    "    return dim/c"
   ]
  },
  {
   "cell_type": "markdown",
   "id": "a1753ac5-f14d-4b3a-869f-8c54bf3b6783",
   "metadata": {},
   "source": [
    "# Ignition Dataset"
   ]
  },
  {
   "cell_type": "code",
   "execution_count": 12,
   "id": "32a2537e-45b1-4836-8a81-d5f36b570660",
   "metadata": {},
   "outputs": [],
   "source": [
    "points = torch.from_numpy(np.load(\"data/ignition/points.npy\").astype(np.float32)).expand(1, 1, -1, -1)\n",
    "t = torch.tensor([[0.]])\n",
    "\n",
    "coords = (t, points)\n",
    "\n",
    "path = \"ignition/hnet_online_manifold/version_0/\""
   ]
  },
  {
   "cell_type": "code",
   "execution_count": 15,
   "id": "f0122975-916f-4c8e-98de-9fe65a73e70a",
   "metadata": {},
   "outputs": [
    {
     "name": "stdout",
     "output_type": "stream",
     "text": [
      "Exact parameter count: 31652\n",
      "10.26 8\n",
      "8.18 9\n",
      "8.717 10\n",
      "7.921 9\n"
     ]
    }
   ],
   "source": [
    "estimate_dim(path, coords, 2, 4)"
   ]
  },
  {
   "cell_type": "code",
   "execution_count": null,
   "id": "59844918-e0e8-4a73-95d6-40119b3f449e",
   "metadata": {},
   "outputs": [],
   "source": []
  }
 ],
 "metadata": {
  "kernelspec": {
   "display_name": "Python 3 (ipykernel)",
   "language": "python",
   "name": "python3"
  },
  "language_info": {
   "codemirror_mode": {
    "name": "ipython",
    "version": 3
   },
   "file_extension": ".py",
   "mimetype": "text/x-python",
   "name": "python",
   "nbconvert_exporter": "python",
   "pygments_lexer": "ipython3",
   "version": "3.13.5"
  }
 },
 "nbformat": 4,
 "nbformat_minor": 5
}
